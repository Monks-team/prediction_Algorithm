{
  "nbformat": 4,
  "nbformat_minor": 0,
  "metadata": {
    "colab": {
      "name": "hackathon-covid",
      "provenance": [],
      "collapsed_sections": [],
      "include_colab_link": true
    },
    "kernelspec": {
      "name": "python3",
      "display_name": "Python 3"
    },
    "accelerator": "GPU"
  },
  "cells": [
    {
      "cell_type": "markdown",
      "metadata": {
        "id": "view-in-github",
        "colab_type": "text"
      },
      "source": [
        "<a href=\"https://colab.research.google.com/github/Monks-team/prediction_Algorithm/blob/master/hackathon_covid.ipynb\" target=\"_parent\"><img src=\"https://colab.research.google.com/assets/colab-badge.svg\" alt=\"Open In Colab\"/></a>"
      ]
    },
    {
      "cell_type": "markdown",
      "metadata": {
        "id": "hQpuRfMUDx_C",
        "colab_type": "text"
      },
      "source": [
        "IMPORTS\n"
      ]
    },
    {
      "cell_type": "code",
      "metadata": {
        "id": "lWrr2ty6D0GU",
        "colab_type": "code",
        "colab": {}
      },
      "source": [
        "import pandas as pd\n",
        "import numpy as np\n",
        "import matplotlib.pyplot as plt\n",
        "from datetime import datetime as dt\n",
        "import torch\n",
        "from torch import nn"
      ],
      "execution_count": 2,
      "outputs": []
    },
    {
      "cell_type": "markdown",
      "metadata": {
        "id": "n1vbi2gZEGj1",
        "colab_type": "text"
      },
      "source": [
        "DATA"
      ]
    },
    {
      "cell_type": "code",
      "metadata": {
        "id": "4v8E66MbD9za",
        "colab_type": "code",
        "colab": {}
      },
      "source": [
        "data=pd.read_csv('/content/drive/My Drive/data/pre-pro.csv')"
      ],
      "execution_count": 3,
      "outputs": []
    },
    {
      "cell_type": "code",
      "metadata": {
        "id": "7o05oVCOEEjp",
        "colab_type": "code",
        "colab": {
          "base_uri": "https://localhost:8080/",
          "height": 297
        },
        "outputId": "1a4a5a54-6964-4f15-f147-455c5289848b"
      },
      "source": [
        "data.describe()"
      ],
      "execution_count": 4,
      "outputs": [
        {
          "output_type": "execute_result",
          "data": {
            "text/html": [
              "<div>\n",
              "<style scoped>\n",
              "    .dataframe tbody tr th:only-of-type {\n",
              "        vertical-align: middle;\n",
              "    }\n",
              "\n",
              "    .dataframe tbody tr th {\n",
              "        vertical-align: top;\n",
              "    }\n",
              "\n",
              "    .dataframe thead th {\n",
              "        text-align: right;\n",
              "    }\n",
              "</style>\n",
              "<table border=\"1\" class=\"dataframe\">\n",
              "  <thead>\n",
              "    <tr style=\"text-align: right;\">\n",
              "      <th></th>\n",
              "      <th>county</th>\n",
              "      <th>state</th>\n",
              "      <th>fips</th>\n",
              "      <th>cases</th>\n",
              "      <th>deaths</th>\n",
              "      <th>region</th>\n",
              "    </tr>\n",
              "  </thead>\n",
              "  <tbody>\n",
              "    <tr>\n",
              "      <th>count</th>\n",
              "      <td>356671.000000</td>\n",
              "      <td>356671.000000</td>\n",
              "      <td>356671.000000</td>\n",
              "      <td>356671.000000</td>\n",
              "      <td>356671.000000</td>\n",
              "      <td>356671.000000</td>\n",
              "    </tr>\n",
              "    <tr>\n",
              "      <th>mean</th>\n",
              "      <td>917.957053</td>\n",
              "      <td>26.053739</td>\n",
              "      <td>30157.791489</td>\n",
              "      <td>591.362631</td>\n",
              "      <td>29.176647</td>\n",
              "      <td>1.352168</td>\n",
              "    </tr>\n",
              "    <tr>\n",
              "      <th>std</th>\n",
              "      <td>513.721169</td>\n",
              "      <td>14.394170</td>\n",
              "      <td>15321.088601</td>\n",
              "      <td>4527.553441</td>\n",
              "      <td>374.554438</td>\n",
              "      <td>1.478816</td>\n",
              "    </tr>\n",
              "    <tr>\n",
              "      <th>min</th>\n",
              "      <td>0.000000</td>\n",
              "      <td>0.000000</td>\n",
              "      <td>0.000000</td>\n",
              "      <td>1.000000</td>\n",
              "      <td>0.000000</td>\n",
              "      <td>-1.000000</td>\n",
              "    </tr>\n",
              "    <tr>\n",
              "      <th>25%</th>\n",
              "      <td>477.000000</td>\n",
              "      <td>14.000000</td>\n",
              "      <td>18105.000000</td>\n",
              "      <td>8.000000</td>\n",
              "      <td>0.000000</td>\n",
              "      <td>0.000000</td>\n",
              "    </tr>\n",
              "    <tr>\n",
              "      <th>50%</th>\n",
              "      <td>923.000000</td>\n",
              "      <td>25.000000</td>\n",
              "      <td>29089.000000</td>\n",
              "      <td>37.000000</td>\n",
              "      <td>1.000000</td>\n",
              "      <td>2.000000</td>\n",
              "    </tr>\n",
              "    <tr>\n",
              "      <th>75%</th>\n",
              "      <td>1344.000000</td>\n",
              "      <td>40.000000</td>\n",
              "      <td>45056.000000</td>\n",
              "      <td>182.000000</td>\n",
              "      <td>5.000000</td>\n",
              "      <td>2.000000</td>\n",
              "    </tr>\n",
              "    <tr>\n",
              "      <th>max</th>\n",
              "      <td>1828.000000</td>\n",
              "      <td>50.000000</td>\n",
              "      <td>56045.000000</td>\n",
              "      <td>227882.000000</td>\n",
              "      <td>22936.000000</td>\n",
              "      <td>4.000000</td>\n",
              "    </tr>\n",
              "  </tbody>\n",
              "</table>\n",
              "</div>"
            ],
            "text/plain": [
              "              county          state  ...         deaths         region\n",
              "count  356671.000000  356671.000000  ...  356671.000000  356671.000000\n",
              "mean      917.957053      26.053739  ...      29.176647       1.352168\n",
              "std       513.721169      14.394170  ...     374.554438       1.478816\n",
              "min         0.000000       0.000000  ...       0.000000      -1.000000\n",
              "25%       477.000000      14.000000  ...       0.000000       0.000000\n",
              "50%       923.000000      25.000000  ...       1.000000       2.000000\n",
              "75%      1344.000000      40.000000  ...       5.000000       2.000000\n",
              "max      1828.000000      50.000000  ...   22936.000000       4.000000\n",
              "\n",
              "[8 rows x 6 columns]"
            ]
          },
          "metadata": {
            "tags": []
          },
          "execution_count": 4
        }
      ]
    },
    {
      "cell_type": "code",
      "metadata": {
        "id": "A2OAvtoxEpux",
        "colab_type": "code",
        "colab": {
          "base_uri": "https://localhost:8080/",
          "height": 204
        },
        "outputId": "c4ba91c8-784b-47b7-dca5-938ce05a497b"
      },
      "source": [
        "data.head()"
      ],
      "execution_count": 5,
      "outputs": [
        {
          "output_type": "execute_result",
          "data": {
            "text/html": [
              "<div>\n",
              "<style scoped>\n",
              "    .dataframe tbody tr th:only-of-type {\n",
              "        vertical-align: middle;\n",
              "    }\n",
              "\n",
              "    .dataframe tbody tr th {\n",
              "        vertical-align: top;\n",
              "    }\n",
              "\n",
              "    .dataframe thead th {\n",
              "        text-align: right;\n",
              "    }\n",
              "</style>\n",
              "<table border=\"1\" class=\"dataframe\">\n",
              "  <thead>\n",
              "    <tr style=\"text-align: right;\">\n",
              "      <th></th>\n",
              "      <th>date</th>\n",
              "      <th>county</th>\n",
              "      <th>state</th>\n",
              "      <th>fips</th>\n",
              "      <th>cases</th>\n",
              "      <th>deaths</th>\n",
              "      <th>region</th>\n",
              "      <th>state_code</th>\n",
              "    </tr>\n",
              "  </thead>\n",
              "  <tbody>\n",
              "    <tr>\n",
              "      <th>0</th>\n",
              "      <td>2020-01-21</td>\n",
              "      <td>1515</td>\n",
              "      <td>47</td>\n",
              "      <td>53061.0</td>\n",
              "      <td>1</td>\n",
              "      <td>0</td>\n",
              "      <td>4</td>\n",
              "      <td>WA</td>\n",
              "    </tr>\n",
              "    <tr>\n",
              "      <th>1</th>\n",
              "      <td>2020-01-22</td>\n",
              "      <td>1515</td>\n",
              "      <td>47</td>\n",
              "      <td>53061.0</td>\n",
              "      <td>1</td>\n",
              "      <td>0</td>\n",
              "      <td>4</td>\n",
              "      <td>WA</td>\n",
              "    </tr>\n",
              "    <tr>\n",
              "      <th>2</th>\n",
              "      <td>2020-01-23</td>\n",
              "      <td>1515</td>\n",
              "      <td>47</td>\n",
              "      <td>53061.0</td>\n",
              "      <td>1</td>\n",
              "      <td>0</td>\n",
              "      <td>4</td>\n",
              "      <td>WA</td>\n",
              "    </tr>\n",
              "    <tr>\n",
              "      <th>3</th>\n",
              "      <td>2020-01-24</td>\n",
              "      <td>389</td>\n",
              "      <td>13</td>\n",
              "      <td>17031.0</td>\n",
              "      <td>1</td>\n",
              "      <td>0</td>\n",
              "      <td>0</td>\n",
              "      <td>IL</td>\n",
              "    </tr>\n",
              "    <tr>\n",
              "      <th>4</th>\n",
              "      <td>2020-01-24</td>\n",
              "      <td>1515</td>\n",
              "      <td>47</td>\n",
              "      <td>53061.0</td>\n",
              "      <td>1</td>\n",
              "      <td>0</td>\n",
              "      <td>4</td>\n",
              "      <td>WA</td>\n",
              "    </tr>\n",
              "  </tbody>\n",
              "</table>\n",
              "</div>"
            ],
            "text/plain": [
              "         date  county  state     fips  cases  deaths  region state_code\n",
              "0  2020-01-21    1515     47  53061.0      1       0       4         WA\n",
              "1  2020-01-22    1515     47  53061.0      1       0       4         WA\n",
              "2  2020-01-23    1515     47  53061.0      1       0       4         WA\n",
              "3  2020-01-24     389     13  17031.0      1       0       0         IL\n",
              "4  2020-01-24    1515     47  53061.0      1       0       4         WA"
            ]
          },
          "metadata": {
            "tags": []
          },
          "execution_count": 5
        }
      ]
    },
    {
      "cell_type": "code",
      "metadata": {
        "id": "NcmQf9MJEslM",
        "colab_type": "code",
        "colab": {
          "base_uri": "https://localhost:8080/",
          "height": 34
        },
        "outputId": "8735a4e4-1bc6-49cb-a69b-ee7c11367a9c"
      },
      "source": [
        "type(data)"
      ],
      "execution_count": 6,
      "outputs": [
        {
          "output_type": "execute_result",
          "data": {
            "text/plain": [
              "pandas.core.frame.DataFrame"
            ]
          },
          "metadata": {
            "tags": []
          },
          "execution_count": 6
        }
      ]
    },
    {
      "cell_type": "code",
      "metadata": {
        "id": "sThVGTC7E-CN",
        "colab_type": "code",
        "colab": {
          "base_uri": "https://localhost:8080/",
          "height": 34
        },
        "outputId": "e4786533-3342-4168-d893-eef6639a762c"
      },
      "source": [
        "data.shape"
      ],
      "execution_count": 7,
      "outputs": [
        {
          "output_type": "execute_result",
          "data": {
            "text/plain": [
              "(356671, 8)"
            ]
          },
          "metadata": {
            "tags": []
          },
          "execution_count": 7
        }
      ]
    },
    {
      "cell_type": "code",
      "metadata": {
        "id": "GQSA1YR3FIDh",
        "colab_type": "code",
        "colab": {
          "base_uri": "https://localhost:8080/",
          "height": 170
        },
        "outputId": "f2720e9d-a369-45d2-ac92-5895b67bcd60"
      },
      "source": [
        "data.isnull().sum()"
      ],
      "execution_count": 8,
      "outputs": [
        {
          "output_type": "execute_result",
          "data": {
            "text/plain": [
              "date          0\n",
              "county        0\n",
              "state         0\n",
              "fips          0\n",
              "cases         0\n",
              "deaths        0\n",
              "region        0\n",
              "state_code    0\n",
              "dtype: int64"
            ]
          },
          "metadata": {
            "tags": []
          },
          "execution_count": 8
        }
      ]
    },
    {
      "cell_type": "code",
      "metadata": {
        "id": "QGpF41K6FNqk",
        "colab_type": "code",
        "colab": {
          "base_uri": "https://localhost:8080/",
          "height": 265
        },
        "outputId": "e5e8ce01-2327-43a6-b867-2c139ec1a485"
      },
      "source": [
        "X=data.date\n",
        "y=data.cases\n",
        "X=X.to_numpy()\n",
        "y=y.to_numpy()\n",
        "plt.scatter(X,y)\n",
        "plt.show()"
      ],
      "execution_count": 9,
      "outputs": [
        {
          "output_type": "display_data",
          "data": {
            "image/png": "[encoded data removed]",
            "text/plain": [
              "<Figure size 432x288 with 1 Axes>"
            ]
          },
          "metadata": {
            "tags": [],
            "needs_background": "light"
          }
        }
      ]
    },
    {
      "cell_type": "code",
      "metadata": {
        "id": "WD81iVU_HTve",
        "colab_type": "code",
        "colab": {
          "base_uri": "https://localhost:8080/",
          "height": 204
        },
        "outputId": "9b5ad3fb-3b0b-4c20-cd25-8e96e6a09682"
      },
      "source": [
        "data = data.groupby(['date'],as_index = False).agg({'cases':sum})\n",
        "data.head()"
      ],
      "execution_count": 10,
      "outputs": [
        {
          "output_type": "execute_result",
          "data": {
            "text/html": [
              "<div>\n",
              "<style scoped>\n",
              "    .dataframe tbody tr th:only-of-type {\n",
              "        vertical-align: middle;\n",
              "    }\n",
              "\n",
              "    .dataframe tbody tr th {\n",
              "        vertical-align: top;\n",
              "    }\n",
              "\n",
              "    .dataframe thead th {\n",
              "        text-align: right;\n",
              "    }\n",
              "</style>\n",
              "<table border=\"1\" class=\"dataframe\">\n",
              "  <thead>\n",
              "    <tr style=\"text-align: right;\">\n",
              "      <th></th>\n",
              "      <th>date</th>\n",
              "      <th>cases</th>\n",
              "    </tr>\n",
              "  </thead>\n",
              "  <tbody>\n",
              "    <tr>\n",
              "      <th>0</th>\n",
              "      <td>2020-01-21</td>\n",
              "      <td>1</td>\n",
              "    </tr>\n",
              "    <tr>\n",
              "      <th>1</th>\n",
              "      <td>2020-01-22</td>\n",
              "      <td>1</td>\n",
              "    </tr>\n",
              "    <tr>\n",
              "      <th>2</th>\n",
              "      <td>2020-01-23</td>\n",
              "      <td>1</td>\n",
              "    </tr>\n",
              "    <tr>\n",
              "      <th>3</th>\n",
              "      <td>2020-01-24</td>\n",
              "      <td>2</td>\n",
              "    </tr>\n",
              "    <tr>\n",
              "      <th>4</th>\n",
              "      <td>2020-01-25</td>\n",
              "      <td>3</td>\n",
              "    </tr>\n",
              "  </tbody>\n",
              "</table>\n",
              "</div>"
            ],
            "text/plain": [
              "         date  cases\n",
              "0  2020-01-21      1\n",
              "1  2020-01-22      1\n",
              "2  2020-01-23      1\n",
              "3  2020-01-24      2\n",
              "4  2020-01-25      3"
            ]
          },
          "metadata": {
            "tags": []
          },
          "execution_count": 10
        }
      ]
    },
    {
      "cell_type": "code",
      "metadata": {
        "id": "_OUI2Bt-po4K",
        "colab_type": "code",
        "colab": {
          "base_uri": "https://localhost:8080/",
          "height": 204
        },
        "outputId": "da95c662-0a9c-4b86-aa48-c757c0b7a165"
      },
      "source": [
        "data.tail()"
      ],
      "execution_count": 11,
      "outputs": [
        {
          "output_type": "execute_result",
          "data": {
            "text/html": [
              "<div>\n",
              "<style scoped>\n",
              "    .dataframe tbody tr th:only-of-type {\n",
              "        vertical-align: middle;\n",
              "    }\n",
              "\n",
              "    .dataframe tbody tr th {\n",
              "        vertical-align: top;\n",
              "    }\n",
              "\n",
              "    .dataframe thead th {\n",
              "        text-align: right;\n",
              "    }\n",
              "</style>\n",
              "<table border=\"1\" class=\"dataframe\">\n",
              "  <thead>\n",
              "    <tr style=\"text-align: right;\">\n",
              "      <th></th>\n",
              "      <th>date</th>\n",
              "      <th>cases</th>\n",
              "    </tr>\n",
              "  </thead>\n",
              "  <tbody>\n",
              "    <tr>\n",
              "      <th>181</th>\n",
              "      <td>2020-07-20</td>\n",
              "      <td>3818485</td>\n",
              "    </tr>\n",
              "    <tr>\n",
              "      <th>182</th>\n",
              "      <td>2020-07-21</td>\n",
              "      <td>3883886</td>\n",
              "    </tr>\n",
              "    <tr>\n",
              "      <th>183</th>\n",
              "      <td>2020-07-22</td>\n",
              "      <td>3952880</td>\n",
              "    </tr>\n",
              "    <tr>\n",
              "      <th>184</th>\n",
              "      <td>2020-07-23</td>\n",
              "      <td>4022316</td>\n",
              "    </tr>\n",
              "    <tr>\n",
              "      <th>185</th>\n",
              "      <td>2020-07-24</td>\n",
              "      <td>4095121</td>\n",
              "    </tr>\n",
              "  </tbody>\n",
              "</table>\n",
              "</div>"
            ],
            "text/plain": [
              "           date    cases\n",
              "181  2020-07-20  3818485\n",
              "182  2020-07-21  3883886\n",
              "183  2020-07-22  3952880\n",
              "184  2020-07-23  4022316\n",
              "185  2020-07-24  4095121"
            ]
          },
          "metadata": {
            "tags": []
          },
          "execution_count": 11
        }
      ]
    },
    {
      "cell_type": "code",
      "metadata": {
        "id": "-Q9OeXMxhQ6h",
        "colab_type": "code",
        "colab": {
          "base_uri": "https://localhost:8080/",
          "height": 276
        },
        "outputId": "8ac68268-948d-491b-cf91-ef0019661417"
      },
      "source": [
        "X=data.date\n",
        "y=data.cases\n",
        "X=X.to_numpy()\n",
        "y=y.to_numpy()\n",
        "plt.scatter(X,y)\n",
        "plt.show()"
      ],
      "execution_count": 12,
      "outputs": [
        {
          "output_type": "display_data",
          "data": {
            "image/png": "[encoded data removed]",
            "text/plain": [
              "<Figure size 432x288 with 1 Axes>"
            ]
          },
          "metadata": {
            "tags": [],
            "needs_background": "light"
          }
        }
      ]
    },
    {
      "cell_type": "code",
      "metadata": {
        "id": "2bPqy-0BiHF6",
        "colab_type": "code",
        "colab": {
          "base_uri": "https://localhost:8080/",
          "height": 204
        },
        "outputId": "c53a4a11-10cb-47e7-e8e5-a2fde4f62a7c"
      },
      "source": [
        "data.head()"
      ],
      "execution_count": 13,
      "outputs": [
        {
          "output_type": "execute_result",
          "data": {
            "text/html": [
              "<div>\n",
              "<style scoped>\n",
              "    .dataframe tbody tr th:only-of-type {\n",
              "        vertical-align: middle;\n",
              "    }\n",
              "\n",
              "    .dataframe tbody tr th {\n",
              "        vertical-align: top;\n",
              "    }\n",
              "\n",
              "    .dataframe thead th {\n",
              "        text-align: right;\n",
              "    }\n",
              "</style>\n",
              "<table border=\"1\" class=\"dataframe\">\n",
              "  <thead>\n",
              "    <tr style=\"text-align: right;\">\n",
              "      <th></th>\n",
              "      <th>date</th>\n",
              "      <th>cases</th>\n",
              "    </tr>\n",
              "  </thead>\n",
              "  <tbody>\n",
              "    <tr>\n",
              "      <th>0</th>\n",
              "      <td>2020-01-21</td>\n",
              "      <td>1</td>\n",
              "    </tr>\n",
              "    <tr>\n",
              "      <th>1</th>\n",
              "      <td>2020-01-22</td>\n",
              "      <td>1</td>\n",
              "    </tr>\n",
              "    <tr>\n",
              "      <th>2</th>\n",
              "      <td>2020-01-23</td>\n",
              "      <td>1</td>\n",
              "    </tr>\n",
              "    <tr>\n",
              "      <th>3</th>\n",
              "      <td>2020-01-24</td>\n",
              "      <td>2</td>\n",
              "    </tr>\n",
              "    <tr>\n",
              "      <th>4</th>\n",
              "      <td>2020-01-25</td>\n",
              "      <td>3</td>\n",
              "    </tr>\n",
              "  </tbody>\n",
              "</table>\n",
              "</div>"
            ],
            "text/plain": [
              "         date  cases\n",
              "0  2020-01-21      1\n",
              "1  2020-01-22      1\n",
              "2  2020-01-23      1\n",
              "3  2020-01-24      2\n",
              "4  2020-01-25      3"
            ]
          },
          "metadata": {
            "tags": []
          },
          "execution_count": 13
        }
      ]
    },
    {
      "cell_type": "code",
      "metadata": {
        "id": "cOI2MgBEVE1w",
        "colab_type": "code",
        "colab": {}
      },
      "source": [
        "data['date'] = pd.to_datetime(data['date'])\n",
        "data['day'] = data['date'].dt.day\n",
        "data['month'] = data['date'].dt.month\n",
        "data['year'] = data['date'].dt.year\n"
      ],
      "execution_count": 14,
      "outputs": []
    },
    {
      "cell_type": "code",
      "metadata": {
        "id": "Pa0ehsDwqISh",
        "colab_type": "code",
        "colab": {}
      },
      "source": [
        "data = data.drop(columns='date')"
      ],
      "execution_count": 15,
      "outputs": []
    },
    {
      "cell_type": "code",
      "metadata": {
        "id": "Ak5s-dme0ijI",
        "colab_type": "code",
        "colab": {
          "base_uri": "https://localhost:8080/",
          "height": 204
        },
        "outputId": "f989587d-946e-41df-8f6f-f3bcca753c22"
      },
      "source": [
        "data.head()"
      ],
      "execution_count": 16,
      "outputs": [
        {
          "output_type": "execute_result",
          "data": {
            "text/html": [
              "<div>\n",
              "<style scoped>\n",
              "    .dataframe tbody tr th:only-of-type {\n",
              "        vertical-align: middle;\n",
              "    }\n",
              "\n",
              "    .dataframe tbody tr th {\n",
              "        vertical-align: top;\n",
              "    }\n",
              "\n",
              "    .dataframe thead th {\n",
              "        text-align: right;\n",
              "    }\n",
              "</style>\n",
              "<table border=\"1\" class=\"dataframe\">\n",
              "  <thead>\n",
              "    <tr style=\"text-align: right;\">\n",
              "      <th></th>\n",
              "      <th>cases</th>\n",
              "      <th>day</th>\n",
              "      <th>month</th>\n",
              "      <th>year</th>\n",
              "    </tr>\n",
              "  </thead>\n",
              "  <tbody>\n",
              "    <tr>\n",
              "      <th>0</th>\n",
              "      <td>1</td>\n",
              "      <td>21</td>\n",
              "      <td>1</td>\n",
              "      <td>2020</td>\n",
              "    </tr>\n",
              "    <tr>\n",
              "      <th>1</th>\n",
              "      <td>1</td>\n",
              "      <td>22</td>\n",
              "      <td>1</td>\n",
              "      <td>2020</td>\n",
              "    </tr>\n",
              "    <tr>\n",
              "      <th>2</th>\n",
              "      <td>1</td>\n",
              "      <td>23</td>\n",
              "      <td>1</td>\n",
              "      <td>2020</td>\n",
              "    </tr>\n",
              "    <tr>\n",
              "      <th>3</th>\n",
              "      <td>2</td>\n",
              "      <td>24</td>\n",
              "      <td>1</td>\n",
              "      <td>2020</td>\n",
              "    </tr>\n",
              "    <tr>\n",
              "      <th>4</th>\n",
              "      <td>3</td>\n",
              "      <td>25</td>\n",
              "      <td>1</td>\n",
              "      <td>2020</td>\n",
              "    </tr>\n",
              "  </tbody>\n",
              "</table>\n",
              "</div>"
            ],
            "text/plain": [
              "   cases  day  month  year\n",
              "0      1   21      1  2020\n",
              "1      1   22      1  2020\n",
              "2      1   23      1  2020\n",
              "3      2   24      1  2020\n",
              "4      3   25      1  2020"
            ]
          },
          "metadata": {
            "tags": []
          },
          "execution_count": 16
        }
      ]
    },
    {
      "cell_type": "code",
      "metadata": {
        "id": "h4vGvvSRifqd",
        "colab_type": "code",
        "colab": {}
      },
      "source": [
        "new_data=pd.read_csv('/content/drive/My Drive/data/pre-pro.csv')"
      ],
      "execution_count": 18,
      "outputs": []
    },
    {
      "cell_type": "code",
      "metadata": {
        "id": "wO-eGL7aVEVT",
        "colab_type": "code",
        "colab": {
          "base_uri": "https://localhost:8080/",
          "height": 204
        },
        "outputId": "163209fa-708f-443a-e161-489507f8f962"
      },
      "source": [
        "new_data['date'] = pd.to_datetime(new_data['date'])\n",
        "new_data['day'] = new_data['date'].dt.day\n",
        "new_data['month'] = new_data['date'].dt.month\n",
        "new_data['year'] = new_data['date'].dt.year\n",
        "new_data.drop(columns='date')\n",
        "new_data.head()"
      ],
      "execution_count": 19,
      "outputs": [
        {
          "output_type": "execute_result",
          "data": {
            "text/html": [
              "<div>\n",
              "<style scoped>\n",
              "    .dataframe tbody tr th:only-of-type {\n",
              "        vertical-align: middle;\n",
              "    }\n",
              "\n",
              "    .dataframe tbody tr th {\n",
              "        vertical-align: top;\n",
              "    }\n",
              "\n",
              "    .dataframe thead th {\n",
              "        text-align: right;\n",
              "    }\n",
              "</style>\n",
              "<table border=\"1\" class=\"dataframe\">\n",
              "  <thead>\n",
              "    <tr style=\"text-align: right;\">\n",
              "      <th></th>\n",
              "      <th>date</th>\n",
              "      <th>county</th>\n",
              "      <th>state</th>\n",
              "      <th>fips</th>\n",
              "      <th>cases</th>\n",
              "      <th>deaths</th>\n",
              "      <th>region</th>\n",
              "      <th>state_code</th>\n",
              "      <th>day</th>\n",
              "      <th>month</th>\n",
              "      <th>year</th>\n",
              "    </tr>\n",
              "  </thead>\n",
              "  <tbody>\n",
              "    <tr>\n",
              "      <th>0</th>\n",
              "      <td>2020-01-21</td>\n",
              "      <td>1515</td>\n",
              "      <td>47</td>\n",
              "      <td>53061.0</td>\n",
              "      <td>1</td>\n",
              "      <td>0</td>\n",
              "      <td>4</td>\n",
              "      <td>WA</td>\n",
              "      <td>21</td>\n",
              "      <td>1</td>\n",
              "      <td>2020</td>\n",
              "    </tr>\n",
              "    <tr>\n",
              "      <th>1</th>\n",
              "      <td>2020-01-22</td>\n",
              "      <td>1515</td>\n",
              "      <td>47</td>\n",
              "      <td>53061.0</td>\n",
              "      <td>1</td>\n",
              "      <td>0</td>\n",
              "      <td>4</td>\n",
              "      <td>WA</td>\n",
              "      <td>22</td>\n",
              "      <td>1</td>\n",
              "      <td>2020</td>\n",
              "    </tr>\n",
              "    <tr>\n",
              "      <th>2</th>\n",
              "      <td>2020-01-23</td>\n",
              "      <td>1515</td>\n",
              "      <td>47</td>\n",
              "      <td>53061.0</td>\n",
              "      <td>1</td>\n",
              "      <td>0</td>\n",
              "      <td>4</td>\n",
              "      <td>WA</td>\n",
              "      <td>23</td>\n",
              "      <td>1</td>\n",
              "      <td>2020</td>\n",
              "    </tr>\n",
              "    <tr>\n",
              "      <th>3</th>\n",
              "      <td>2020-01-24</td>\n",
              "      <td>389</td>\n",
              "      <td>13</td>\n",
              "      <td>17031.0</td>\n",
              "      <td>1</td>\n",
              "      <td>0</td>\n",
              "      <td>0</td>\n",
              "      <td>IL</td>\n",
              "      <td>24</td>\n",
              "      <td>1</td>\n",
              "      <td>2020</td>\n",
              "    </tr>\n",
              "    <tr>\n",
              "      <th>4</th>\n",
              "      <td>2020-01-24</td>\n",
              "      <td>1515</td>\n",
              "      <td>47</td>\n",
              "      <td>53061.0</td>\n",
              "      <td>1</td>\n",
              "      <td>0</td>\n",
              "      <td>4</td>\n",
              "      <td>WA</td>\n",
              "      <td>24</td>\n",
              "      <td>1</td>\n",
              "      <td>2020</td>\n",
              "    </tr>\n",
              "  </tbody>\n",
              "</table>\n",
              "</div>"
            ],
            "text/plain": [
              "        date  county  state     fips  ...  state_code  day  month  year\n",
              "0 2020-01-21    1515     47  53061.0  ...          WA   21      1  2020\n",
              "1 2020-01-22    1515     47  53061.0  ...          WA   22      1  2020\n",
              "2 2020-01-23    1515     47  53061.0  ...          WA   23      1  2020\n",
              "3 2020-01-24     389     13  17031.0  ...          IL   24      1  2020\n",
              "4 2020-01-24    1515     47  53061.0  ...          WA   24      1  2020\n",
              "\n",
              "[5 rows x 11 columns]"
            ]
          },
          "metadata": {
            "tags": []
          },
          "execution_count": 19
        }
      ]
    },
    {
      "cell_type": "code",
      "metadata": {
        "id": "K860cADRilZe",
        "colab_type": "code",
        "colab": {}
      },
      "source": [
        "new_data1=new_data.drop(columns=['date','state_code','state', 'county'])"
      ],
      "execution_count": 20,
      "outputs": []
    },
    {
      "cell_type": "code",
      "metadata": {
        "id": "_QMSxQ7aVkQv",
        "colab_type": "code",
        "colab": {
          "base_uri": "https://localhost:8080/",
          "height": 204
        },
        "outputId": "a31de77a-36ef-4480-a3e0-3051e4dba038"
      },
      "source": [
        "data2=new_data1\n",
        "data2.head()"
      ],
      "execution_count": 21,
      "outputs": [
        {
          "output_type": "execute_result",
          "data": {
            "text/html": [
              "<div>\n",
              "<style scoped>\n",
              "    .dataframe tbody tr th:only-of-type {\n",
              "        vertical-align: middle;\n",
              "    }\n",
              "\n",
              "    .dataframe tbody tr th {\n",
              "        vertical-align: top;\n",
              "    }\n",
              "\n",
              "    .dataframe thead th {\n",
              "        text-align: right;\n",
              "    }\n",
              "</style>\n",
              "<table border=\"1\" class=\"dataframe\">\n",
              "  <thead>\n",
              "    <tr style=\"text-align: right;\">\n",
              "      <th></th>\n",
              "      <th>fips</th>\n",
              "      <th>cases</th>\n",
              "      <th>deaths</th>\n",
              "      <th>region</th>\n",
              "      <th>day</th>\n",
              "      <th>month</th>\n",
              "      <th>year</th>\n",
              "    </tr>\n",
              "  </thead>\n",
              "  <tbody>\n",
              "    <tr>\n",
              "      <th>0</th>\n",
              "      <td>53061.0</td>\n",
              "      <td>1</td>\n",
              "      <td>0</td>\n",
              "      <td>4</td>\n",
              "      <td>21</td>\n",
              "      <td>1</td>\n",
              "      <td>2020</td>\n",
              "    </tr>\n",
              "    <tr>\n",
              "      <th>1</th>\n",
              "      <td>53061.0</td>\n",
              "      <td>1</td>\n",
              "      <td>0</td>\n",
              "      <td>4</td>\n",
              "      <td>22</td>\n",
              "      <td>1</td>\n",
              "      <td>2020</td>\n",
              "    </tr>\n",
              "    <tr>\n",
              "      <th>2</th>\n",
              "      <td>53061.0</td>\n",
              "      <td>1</td>\n",
              "      <td>0</td>\n",
              "      <td>4</td>\n",
              "      <td>23</td>\n",
              "      <td>1</td>\n",
              "      <td>2020</td>\n",
              "    </tr>\n",
              "    <tr>\n",
              "      <th>3</th>\n",
              "      <td>17031.0</td>\n",
              "      <td>1</td>\n",
              "      <td>0</td>\n",
              "      <td>0</td>\n",
              "      <td>24</td>\n",
              "      <td>1</td>\n",
              "      <td>2020</td>\n",
              "    </tr>\n",
              "    <tr>\n",
              "      <th>4</th>\n",
              "      <td>53061.0</td>\n",
              "      <td>1</td>\n",
              "      <td>0</td>\n",
              "      <td>4</td>\n",
              "      <td>24</td>\n",
              "      <td>1</td>\n",
              "      <td>2020</td>\n",
              "    </tr>\n",
              "  </tbody>\n",
              "</table>\n",
              "</div>"
            ],
            "text/plain": [
              "      fips  cases  deaths  region  day  month  year\n",
              "0  53061.0      1       0       4   21      1  2020\n",
              "1  53061.0      1       0       4   22      1  2020\n",
              "2  53061.0      1       0       4   23      1  2020\n",
              "3  17031.0      1       0       0   24      1  2020\n",
              "4  53061.0      1       0       4   24      1  2020"
            ]
          },
          "metadata": {
            "tags": []
          },
          "execution_count": 21
        }
      ]
    },
    {
      "cell_type": "code",
      "metadata": {
        "id": "xMEQ7vh-Hm8C",
        "colab_type": "code",
        "colab": {
          "base_uri": "https://localhost:8080/",
          "height": 204
        },
        "outputId": "d7f4c258-0dfa-48d7-e422-4fe9e04679ea"
      },
      "source": [
        "X = data.drop(['cases'], axis=1)\n",
        "y = data[['cases']]\n",
        "X.head()"
      ],
      "execution_count": 22,
      "outputs": [
        {
          "output_type": "execute_result",
          "data": {
            "text/html": [
              "<div>\n",
              "<style scoped>\n",
              "    .dataframe tbody tr th:only-of-type {\n",
              "        vertical-align: middle;\n",
              "    }\n",
              "\n",
              "    .dataframe tbody tr th {\n",
              "        vertical-align: top;\n",
              "    }\n",
              "\n",
              "    .dataframe thead th {\n",
              "        text-align: right;\n",
              "    }\n",
              "</style>\n",
              "<table border=\"1\" class=\"dataframe\">\n",
              "  <thead>\n",
              "    <tr style=\"text-align: right;\">\n",
              "      <th></th>\n",
              "      <th>day</th>\n",
              "      <th>month</th>\n",
              "      <th>year</th>\n",
              "    </tr>\n",
              "  </thead>\n",
              "  <tbody>\n",
              "    <tr>\n",
              "      <th>0</th>\n",
              "      <td>21</td>\n",
              "      <td>1</td>\n",
              "      <td>2020</td>\n",
              "    </tr>\n",
              "    <tr>\n",
              "      <th>1</th>\n",
              "      <td>22</td>\n",
              "      <td>1</td>\n",
              "      <td>2020</td>\n",
              "    </tr>\n",
              "    <tr>\n",
              "      <th>2</th>\n",
              "      <td>23</td>\n",
              "      <td>1</td>\n",
              "      <td>2020</td>\n",
              "    </tr>\n",
              "    <tr>\n",
              "      <th>3</th>\n",
              "      <td>24</td>\n",
              "      <td>1</td>\n",
              "      <td>2020</td>\n",
              "    </tr>\n",
              "    <tr>\n",
              "      <th>4</th>\n",
              "      <td>25</td>\n",
              "      <td>1</td>\n",
              "      <td>2020</td>\n",
              "    </tr>\n",
              "  </tbody>\n",
              "</table>\n",
              "</div>"
            ],
            "text/plain": [
              "   day  month  year\n",
              "0   21      1  2020\n",
              "1   22      1  2020\n",
              "2   23      1  2020\n",
              "3   24      1  2020\n",
              "4   25      1  2020"
            ]
          },
          "metadata": {
            "tags": []
          },
          "execution_count": 22
        }
      ]
    },
    {
      "cell_type": "code",
      "metadata": {
        "id": "A3woG85_kalm",
        "colab_type": "code",
        "colab": {
          "base_uri": "https://localhost:8080/",
          "height": 204
        },
        "outputId": "d5108164-3fec-4f3e-fed7-d752919b80f5"
      },
      "source": [
        "y.tail()"
      ],
      "execution_count": 23,
      "outputs": [
        {
          "output_type": "execute_result",
          "data": {
            "text/html": [
              "<div>\n",
              "<style scoped>\n",
              "    .dataframe tbody tr th:only-of-type {\n",
              "        vertical-align: middle;\n",
              "    }\n",
              "\n",
              "    .dataframe tbody tr th {\n",
              "        vertical-align: top;\n",
              "    }\n",
              "\n",
              "    .dataframe thead th {\n",
              "        text-align: right;\n",
              "    }\n",
              "</style>\n",
              "<table border=\"1\" class=\"dataframe\">\n",
              "  <thead>\n",
              "    <tr style=\"text-align: right;\">\n",
              "      <th></th>\n",
              "      <th>cases</th>\n",
              "    </tr>\n",
              "  </thead>\n",
              "  <tbody>\n",
              "    <tr>\n",
              "      <th>181</th>\n",
              "      <td>3818485</td>\n",
              "    </tr>\n",
              "    <tr>\n",
              "      <th>182</th>\n",
              "      <td>3883886</td>\n",
              "    </tr>\n",
              "    <tr>\n",
              "      <th>183</th>\n",
              "      <td>3952880</td>\n",
              "    </tr>\n",
              "    <tr>\n",
              "      <th>184</th>\n",
              "      <td>4022316</td>\n",
              "    </tr>\n",
              "    <tr>\n",
              "      <th>185</th>\n",
              "      <td>4095121</td>\n",
              "    </tr>\n",
              "  </tbody>\n",
              "</table>\n",
              "</div>"
            ],
            "text/plain": [
              "       cases\n",
              "181  3818485\n",
              "182  3883886\n",
              "183  3952880\n",
              "184  4022316\n",
              "185  4095121"
            ]
          },
          "metadata": {
            "tags": []
          },
          "execution_count": 23
        }
      ]
    },
    {
      "cell_type": "code",
      "metadata": {
        "id": "3095gCiZVDop",
        "colab_type": "code",
        "colab": {}
      },
      "source": [
        "X = X.to_numpy()\n",
        "y = y.to_numpy()"
      ],
      "execution_count": 24,
      "outputs": []
    },
    {
      "cell_type": "code",
      "metadata": {
        "id": "u84LDNfxH3nw",
        "colab_type": "code",
        "colab": {
          "base_uri": "https://localhost:8080/",
          "height": 34
        },
        "outputId": "4370c83c-f004-4646-95d3-1621ce4aaada"
      },
      "source": [
        "print(X.shape,y.shape)"
      ],
      "execution_count": 25,
      "outputs": [
        {
          "output_type": "stream",
          "text": [
            "(186, 3) (186, 1)\n"
          ],
          "name": "stdout"
        }
      ]
    },
    {
      "cell_type": "code",
      "metadata": {
        "id": "o6Ic7oedT5wX",
        "colab_type": "code",
        "colab": {}
      },
      "source": [
        "from sklearn.preprocessing import StandardScaler\n",
        "sc_x = StandardScaler()\n",
        "sc_y = StandardScaler()\n",
        "x_data = sc_x.fit_transform(X)\n",
        "y_data = sc_y.fit_transform(y)"
      ],
      "execution_count": 26,
      "outputs": []
    },
    {
      "cell_type": "code",
      "metadata": {
        "id": "OBlC--sLU-P1",
        "colab_type": "code",
        "colab": {
          "base_uri": "https://localhost:8080/",
          "height": 1000
        },
        "outputId": "2b63c43f-d15d-49fc-9bd4-649e122c07da"
      },
      "source": [
        "x_data"
      ],
      "execution_count": 27,
      "outputs": [
        {
          "output_type": "execute_result",
          "data": {
            "text/plain": [
              "array([[ 0.5930283 , -1.78716813,  0.        ],\n",
              "       [ 0.7075696 , -1.78716813,  0.        ],\n",
              "       [ 0.82211089, -1.78716813,  0.        ],\n",
              "       [ 0.93665218, -1.78716813,  0.        ],\n",
              "       [ 1.05119347, -1.78716813,  0.        ],\n",
              "       [ 1.16573477, -1.78716813,  0.        ],\n",
              "       [ 1.28027606, -1.78716813,  0.        ],\n",
              "       [ 1.39481735, -1.78716813,  0.        ],\n",
              "       [ 1.50935864, -1.78716813,  0.        ],\n",
              "       [ 1.62389994, -1.78716813,  0.        ],\n",
              "       [ 1.73844123, -1.78716813,  0.        ],\n",
              "       [-1.69779754, -1.2322211 ,  0.        ],\n",
              "       [-1.58325625, -1.2322211 ,  0.        ],\n",
              "       [-1.46871496, -1.2322211 ,  0.        ],\n",
              "       [-1.35417367, -1.2322211 ,  0.        ],\n",
              "       [-1.23963237, -1.2322211 ,  0.        ],\n",
              "       [-1.12509108, -1.2322211 ,  0.        ],\n",
              "       [-1.01054979, -1.2322211 ,  0.        ],\n",
              "       [-0.8960085 , -1.2322211 ,  0.        ],\n",
              "       [-0.7814672 , -1.2322211 ,  0.        ],\n",
              "       [-0.66692591, -1.2322211 ,  0.        ],\n",
              "       [-0.55238462, -1.2322211 ,  0.        ],\n",
              "       [-0.43784333, -1.2322211 ,  0.        ],\n",
              "       [-0.32330203, -1.2322211 ,  0.        ],\n",
              "       [-0.20876074, -1.2322211 ,  0.        ],\n",
              "       [-0.09421945, -1.2322211 ,  0.        ],\n",
              "       [ 0.02032184, -1.2322211 ,  0.        ],\n",
              "       [ 0.13486313, -1.2322211 ,  0.        ],\n",
              "       [ 0.24940443, -1.2322211 ,  0.        ],\n",
              "       [ 0.36394572, -1.2322211 ,  0.        ],\n",
              "       [ 0.47848701, -1.2322211 ,  0.        ],\n",
              "       [ 0.5930283 , -1.2322211 ,  0.        ],\n",
              "       [ 0.7075696 , -1.2322211 ,  0.        ],\n",
              "       [ 0.82211089, -1.2322211 ,  0.        ],\n",
              "       [ 0.93665218, -1.2322211 ,  0.        ],\n",
              "       [ 1.05119347, -1.2322211 ,  0.        ],\n",
              "       [ 1.16573477, -1.2322211 ,  0.        ],\n",
              "       [ 1.28027606, -1.2322211 ,  0.        ],\n",
              "       [ 1.39481735, -1.2322211 ,  0.        ],\n",
              "       [ 1.50935864, -1.2322211 ,  0.        ],\n",
              "       [-1.69779754, -0.67727407,  0.        ],\n",
              "       [-1.58325625, -0.67727407,  0.        ],\n",
              "       [-1.46871496, -0.67727407,  0.        ],\n",
              "       [-1.35417367, -0.67727407,  0.        ],\n",
              "       [-1.23963237, -0.67727407,  0.        ],\n",
              "       [-1.12509108, -0.67727407,  0.        ],\n",
              "       [-1.01054979, -0.67727407,  0.        ],\n",
              "       [-0.8960085 , -0.67727407,  0.        ],\n",
              "       [-0.7814672 , -0.67727407,  0.        ],\n",
              "       [-0.66692591, -0.67727407,  0.        ],\n",
              "       [-0.55238462, -0.67727407,  0.        ],\n",
              "       [-0.43784333, -0.67727407,  0.        ],\n",
              "       [-0.32330203, -0.67727407,  0.        ],\n",
              "       [-0.20876074, -0.67727407,  0.        ],\n",
              "       [-0.09421945, -0.67727407,  0.        ],\n",
              "       [ 0.02032184, -0.67727407,  0.        ],\n",
              "       [ 0.13486313, -0.67727407,  0.        ],\n",
              "       [ 0.24940443, -0.67727407,  0.        ],\n",
              "       [ 0.36394572, -0.67727407,  0.        ],\n",
              "       [ 0.47848701, -0.67727407,  0.        ],\n",
              "       [ 0.5930283 , -0.67727407,  0.        ],\n",
              "       [ 0.7075696 , -0.67727407,  0.        ],\n",
              "       [ 0.82211089, -0.67727407,  0.        ],\n",
              "       [ 0.93665218, -0.67727407,  0.        ],\n",
              "       [ 1.05119347, -0.67727407,  0.        ],\n",
              "       [ 1.16573477, -0.67727407,  0.        ],\n",
              "       [ 1.28027606, -0.67727407,  0.        ],\n",
              "       [ 1.39481735, -0.67727407,  0.        ],\n",
              "       [ 1.50935864, -0.67727407,  0.        ],\n",
              "       [ 1.62389994, -0.67727407,  0.        ],\n",
              "       [ 1.73844123, -0.67727407,  0.        ],\n",
              "       [-1.69779754, -0.12232703,  0.        ],\n",
              "       [-1.58325625, -0.12232703,  0.        ],\n",
              "       [-1.46871496, -0.12232703,  0.        ],\n",
              "       [-1.35417367, -0.12232703,  0.        ],\n",
              "       [-1.23963237, -0.12232703,  0.        ],\n",
              "       [-1.12509108, -0.12232703,  0.        ],\n",
              "       [-1.01054979, -0.12232703,  0.        ],\n",
              "       [-0.8960085 , -0.12232703,  0.        ],\n",
              "       [-0.7814672 , -0.12232703,  0.        ],\n",
              "       [-0.66692591, -0.12232703,  0.        ],\n",
              "       [-0.55238462, -0.12232703,  0.        ],\n",
              "       [-0.43784333, -0.12232703,  0.        ],\n",
              "       [-0.32330203, -0.12232703,  0.        ],\n",
              "       [-0.20876074, -0.12232703,  0.        ],\n",
              "       [-0.09421945, -0.12232703,  0.        ],\n",
              "       [ 0.02032184, -0.12232703,  0.        ],\n",
              "       [ 0.13486313, -0.12232703,  0.        ],\n",
              "       [ 0.24940443, -0.12232703,  0.        ],\n",
              "       [ 0.36394572, -0.12232703,  0.        ],\n",
              "       [ 0.47848701, -0.12232703,  0.        ],\n",
              "       [ 0.5930283 , -0.12232703,  0.        ],\n",
              "       [ 0.7075696 , -0.12232703,  0.        ],\n",
              "       [ 0.82211089, -0.12232703,  0.        ],\n",
              "       [ 0.93665218, -0.12232703,  0.        ],\n",
              "       [ 1.05119347, -0.12232703,  0.        ],\n",
              "       [ 1.16573477, -0.12232703,  0.        ],\n",
              "       [ 1.28027606, -0.12232703,  0.        ],\n",
              "       [ 1.39481735, -0.12232703,  0.        ],\n",
              "       [ 1.50935864, -0.12232703,  0.        ],\n",
              "       [ 1.62389994, -0.12232703,  0.        ],\n",
              "       [-1.69779754,  0.43262   ,  0.        ],\n",
              "       [-1.58325625,  0.43262   ,  0.        ],\n",
              "       [-1.46871496,  0.43262   ,  0.        ],\n",
              "       [-1.35417367,  0.43262   ,  0.        ],\n",
              "       [-1.23963237,  0.43262   ,  0.        ],\n",
              "       [-1.12509108,  0.43262   ,  0.        ],\n",
              "       [-1.01054979,  0.43262   ,  0.        ],\n",
              "       [-0.8960085 ,  0.43262   ,  0.        ],\n",
              "       [-0.7814672 ,  0.43262   ,  0.        ],\n",
              "       [-0.66692591,  0.43262   ,  0.        ],\n",
              "       [-0.55238462,  0.43262   ,  0.        ],\n",
              "       [-0.43784333,  0.43262   ,  0.        ],\n",
              "       [-0.32330203,  0.43262   ,  0.        ],\n",
              "       [-0.20876074,  0.43262   ,  0.        ],\n",
              "       [-0.09421945,  0.43262   ,  0.        ],\n",
              "       [ 0.02032184,  0.43262   ,  0.        ],\n",
              "       [ 0.13486313,  0.43262   ,  0.        ],\n",
              "       [ 0.24940443,  0.43262   ,  0.        ],\n",
              "       [ 0.36394572,  0.43262   ,  0.        ],\n",
              "       [ 0.47848701,  0.43262   ,  0.        ],\n",
              "       [ 0.5930283 ,  0.43262   ,  0.        ],\n",
              "       [ 0.7075696 ,  0.43262   ,  0.        ],\n",
              "       [ 0.82211089,  0.43262   ,  0.        ],\n",
              "       [ 0.93665218,  0.43262   ,  0.        ],\n",
              "       [ 1.05119347,  0.43262   ,  0.        ],\n",
              "       [ 1.16573477,  0.43262   ,  0.        ],\n",
              "       [ 1.28027606,  0.43262   ,  0.        ],\n",
              "       [ 1.39481735,  0.43262   ,  0.        ],\n",
              "       [ 1.50935864,  0.43262   ,  0.        ],\n",
              "       [ 1.62389994,  0.43262   ,  0.        ],\n",
              "       [ 1.73844123,  0.43262   ,  0.        ],\n",
              "       [-1.69779754,  0.98756703,  0.        ],\n",
              "       [-1.58325625,  0.98756703,  0.        ],\n",
              "       [-1.46871496,  0.98756703,  0.        ],\n",
              "       [-1.35417367,  0.98756703,  0.        ],\n",
              "       [-1.23963237,  0.98756703,  0.        ],\n",
              "       [-1.12509108,  0.98756703,  0.        ],\n",
              "       [-1.01054979,  0.98756703,  0.        ],\n",
              "       [-0.8960085 ,  0.98756703,  0.        ],\n",
              "       [-0.7814672 ,  0.98756703,  0.        ],\n",
              "       [-0.66692591,  0.98756703,  0.        ],\n",
              "       [-0.55238462,  0.98756703,  0.        ],\n",
              "       [-0.43784333,  0.98756703,  0.        ],\n",
              "       [-0.32330203,  0.98756703,  0.        ],\n",
              "       [-0.20876074,  0.98756703,  0.        ],\n",
              "       [-0.09421945,  0.98756703,  0.        ],\n",
              "       [ 0.02032184,  0.98756703,  0.        ],\n",
              "       [ 0.13486313,  0.98756703,  0.        ],\n",
              "       [ 0.24940443,  0.98756703,  0.        ],\n",
              "       [ 0.36394572,  0.98756703,  0.        ],\n",
              "       [ 0.47848701,  0.98756703,  0.        ],\n",
              "       [ 0.5930283 ,  0.98756703,  0.        ],\n",
              "       [ 0.7075696 ,  0.98756703,  0.        ],\n",
              "       [ 0.82211089,  0.98756703,  0.        ],\n",
              "       [ 0.93665218,  0.98756703,  0.        ],\n",
              "       [ 1.05119347,  0.98756703,  0.        ],\n",
              "       [ 1.16573477,  0.98756703,  0.        ],\n",
              "       [ 1.28027606,  0.98756703,  0.        ],\n",
              "       [ 1.39481735,  0.98756703,  0.        ],\n",
              "       [ 1.50935864,  0.98756703,  0.        ],\n",
              "       [ 1.62389994,  0.98756703,  0.        ],\n",
              "       [-1.69779754,  1.54251406,  0.        ],\n",
              "       [-1.58325625,  1.54251406,  0.        ],\n",
              "       [-1.46871496,  1.54251406,  0.        ],\n",
              "       [-1.35417367,  1.54251406,  0.        ],\n",
              "       [-1.23963237,  1.54251406,  0.        ],\n",
              "       [-1.12509108,  1.54251406,  0.        ],\n",
              "       [-1.01054979,  1.54251406,  0.        ],\n",
              "       [-0.8960085 ,  1.54251406,  0.        ],\n",
              "       [-0.7814672 ,  1.54251406,  0.        ],\n",
              "       [-0.66692591,  1.54251406,  0.        ],\n",
              "       [-0.55238462,  1.54251406,  0.        ],\n",
              "       [-0.43784333,  1.54251406,  0.        ],\n",
              "       [-0.32330203,  1.54251406,  0.        ],\n",
              "       [-0.20876074,  1.54251406,  0.        ],\n",
              "       [-0.09421945,  1.54251406,  0.        ],\n",
              "       [ 0.02032184,  1.54251406,  0.        ],\n",
              "       [ 0.13486313,  1.54251406,  0.        ],\n",
              "       [ 0.24940443,  1.54251406,  0.        ],\n",
              "       [ 0.36394572,  1.54251406,  0.        ],\n",
              "       [ 0.47848701,  1.54251406,  0.        ],\n",
              "       [ 0.5930283 ,  1.54251406,  0.        ],\n",
              "       [ 0.7075696 ,  1.54251406,  0.        ],\n",
              "       [ 0.82211089,  1.54251406,  0.        ],\n",
              "       [ 0.93665218,  1.54251406,  0.        ]])"
            ]
          },
          "metadata": {
            "tags": []
          },
          "execution_count": 27
        }
      ]
    },
    {
      "cell_type": "code",
      "metadata": {
        "id": "Nrg4o0d4Wy4P",
        "colab_type": "code",
        "colab": {
          "base_uri": "https://localhost:8080/",
          "height": 1000
        },
        "outputId": "517cb812-31f8-4986-b872-9008e8794572"
      },
      "source": [
        "y_data"
      ],
      "execution_count": 28,
      "outputs": [
        {
          "output_type": "execute_result",
          "data": {
            "text/plain": [
              "array([[-9.61999364e-01],\n",
              "       [-9.61999364e-01],\n",
              "       [-9.61999364e-01],\n",
              "       [-9.61998516e-01],\n",
              "       [-9.61997667e-01],\n",
              "       [-9.61995971e-01],\n",
              "       [-9.61995971e-01],\n",
              "       [-9.61995971e-01],\n",
              "       [-9.61995971e-01],\n",
              "       [-9.61995122e-01],\n",
              "       [-9.61994274e-01],\n",
              "       [-9.61993426e-01],\n",
              "       [-9.61990881e-01],\n",
              "       [-9.61990881e-01],\n",
              "       [-9.61990881e-01],\n",
              "       [-9.61990032e-01],\n",
              "       [-9.61990032e-01],\n",
              "       [-9.61990032e-01],\n",
              "       [-9.61990032e-01],\n",
              "       [-9.61990032e-01],\n",
              "       [-9.61989184e-01],\n",
              "       [-9.61989184e-01],\n",
              "       [-9.61988336e-01],\n",
              "       [-9.61987487e-01],\n",
              "       [-9.61987487e-01],\n",
              "       [-9.61987487e-01],\n",
              "       [-9.61987487e-01],\n",
              "       [-9.61979004e-01],\n",
              "       [-9.61979004e-01],\n",
              "       [-9.61979004e-01],\n",
              "       [-9.61977307e-01],\n",
              "       [-9.61974762e-01],\n",
              "       [-9.61974762e-01],\n",
              "       [-9.61974762e-01],\n",
              "       [-9.61963734e-01],\n",
              "       [-9.61962037e-01],\n",
              "       [-9.61949312e-01],\n",
              "       [-9.61949312e-01],\n",
              "       [-9.61945071e-01],\n",
              "       [-9.61940829e-01],\n",
              "       [-9.61927256e-01],\n",
              "       [-9.61913682e-01],\n",
              "       [-9.61895867e-01],\n",
              "       [-9.61865327e-01],\n",
              "       [-9.61808489e-01],\n",
              "       [-9.61738926e-01],\n",
              "       [-9.61639671e-01],\n",
              "       [-9.61538719e-01],\n",
              "       [-9.61368204e-01],\n",
              "       [-9.61140851e-01],\n",
              "       [-9.60933009e-01],\n",
              "       [-9.60590283e-01],\n",
              "       [-9.60133880e-01],\n",
              "       [-9.59563800e-01],\n",
              "       [-9.58971663e-01],\n",
              "       [-9.58205618e-01],\n",
              "       [-9.57022194e-01],\n",
              "       [-9.54966682e-01],\n",
              "       [-9.51564866e-01],\n",
              "       [-9.46844741e-01],\n",
              "       [-9.41507029e-01],\n",
              "       [-9.34407329e-01],\n",
              "       [-9.26006285e-01],\n",
              "       [-9.17319354e-01],\n",
              "       [-9.05244180e-01],\n",
              "       [-8.91653035e-01],\n",
              "       [-8.77542710e-01],\n",
              "       [-8.60362267e-01],\n",
              "       [-8.45436693e-01],\n",
              "       [-8.27835477e-01],\n",
              "       [-8.06923217e-01],\n",
              "       [-7.85376403e-01],\n",
              "       [-7.60688212e-01],\n",
              "       [-7.32842525e-01],\n",
              "       [-7.02772508e-01],\n",
              "       [-6.81052635e-01],\n",
              "       [-6.54937547e-01],\n",
              "       [-6.28004667e-01],\n",
              "       [-6.01065848e-01],\n",
              "       [-5.71704189e-01],\n",
              "       [-5.43367317e-01],\n",
              "       [-5.16996033e-01],\n",
              "       [-4.94177568e-01],\n",
              "       [-4.72391525e-01],\n",
              "       [-4.49480592e-01],\n",
              "       [-4.23311211e-01],\n",
              "       [-3.96492855e-01],\n",
              "       [-3.69709281e-01],\n",
              "       [-3.45718420e-01],\n",
              "       [-3.23976489e-01],\n",
              "       [-3.01107125e-01],\n",
              "       [-2.79546738e-01],\n",
              "       [-2.55906238e-01],\n",
              "       [-2.27663531e-01],\n",
              "       [-1.95768750e-01],\n",
              "       [-1.66805808e-01],\n",
              "       [-1.44320738e-01],\n",
              "       [-1.24996557e-01],\n",
              "       [-1.03383574e-01],\n",
              "       [-8.04242854e-02],\n",
              "       [-5.50192527e-02],\n",
              "       [-2.64965957e-02],\n",
              "       [-1.78549954e-03],\n",
              "       [ 2.00353256e-02],\n",
              "       [ 3.87800948e-02],\n",
              "       [ 5.89619403e-02],\n",
              "       [ 7.99208589e-02],\n",
              "       [ 1.03343337e-01],\n",
              "       [ 1.26529979e-01],\n",
              "       [ 1.47532162e-01],\n",
              "       [ 1.64083142e-01],\n",
              "       [ 1.80565407e-01],\n",
              "       [ 1.99248247e-01],\n",
              "       [ 2.16775658e-01],\n",
              "       [ 2.39569522e-01],\n",
              "       [ 2.61225770e-01],\n",
              "       [ 2.80873166e-01],\n",
              "       [ 2.96339127e-01],\n",
              "       [ 3.14862482e-01],\n",
              "       [ 3.32528171e-01],\n",
              "       [ 3.52173022e-01],\n",
              "       [ 3.73690992e-01],\n",
              "       [ 3.93657361e-01],\n",
              "       [ 4.11889737e-01],\n",
              "       [ 4.29263599e-01],\n",
              "       [ 4.45879901e-01],\n",
              "       [ 4.62153475e-01],\n",
              "       [ 4.78139465e-01],\n",
              "       [ 4.97053901e-01],\n",
              "       [ 5.17907626e-01],\n",
              "       [ 5.37374327e-01],\n",
              "       [ 5.54710863e-01],\n",
              "       [ 5.73408974e-01],\n",
              "       [ 5.90725999e-01],\n",
              "       [ 6.07791916e-01],\n",
              "       [ 6.25806271e-01],\n",
              "       [ 6.50027030e-01],\n",
              "       [ 6.68766709e-01],\n",
              "       [ 6.84326836e-01],\n",
              "       [ 6.99816551e-01],\n",
              "       [ 7.15623542e-01],\n",
              "       [ 7.33171313e-01],\n",
              "       [ 7.52758477e-01],\n",
              "       [ 7.74161074e-01],\n",
              "       [ 7.95302385e-01],\n",
              "       [ 8.11029633e-01],\n",
              "       [ 8.28401799e-01],\n",
              "       [ 8.49313211e-01],\n",
              "       [ 8.71157789e-01],\n",
              "       [ 8.93794711e-01],\n",
              "       [ 9.20814970e-01],\n",
              "       [ 9.46746818e-01],\n",
              "       [ 9.69035923e-01],\n",
              "       [ 9.95546333e-01],\n",
              "       [ 1.02526599e+00],\n",
              "       [ 1.05655760e+00],\n",
              "       [ 1.09113651e+00],\n",
              "       [ 1.12970598e+00],\n",
              "       [ 1.16527998e+00],\n",
              "       [ 1.19796965e+00],\n",
              "       [ 1.23068647e+00],\n",
              "       [ 1.27230315e+00],\n",
              "       [ 1.31474101e+00],\n",
              "       [ 1.36023457e+00],\n",
              "       [ 1.41037954e+00],\n",
              "       [ 1.45310499e+00],\n",
              "       [ 1.49095083e+00],\n",
              "       [ 1.53054339e+00],\n",
              "       [ 1.57626600e+00],\n",
              "       [ 1.62639231e+00],\n",
              "       [ 1.67716505e+00],\n",
              "       [ 1.73443602e+00],\n",
              "       [ 1.78559814e+00],\n",
              "       [ 1.83429840e+00],\n",
              "       [ 1.88575575e+00],\n",
              "       [ 1.94140470e+00],\n",
              "       [ 1.99959103e+00],\n",
              "       [ 2.06381239e+00],\n",
              "       [ 2.12329666e+00],\n",
              "       [ 2.17562355e+00],\n",
              "       [ 2.22758904e+00],\n",
              "       [ 2.27734717e+00],\n",
              "       [ 2.33282901e+00],\n",
              "       [ 2.39135891e+00],\n",
              "       [ 2.45026377e+00],\n",
              "       [ 2.51202666e+00]])"
            ]
          },
          "metadata": {
            "tags": []
          },
          "execution_count": 28
        }
      ]
    },
    {
      "cell_type": "code",
      "metadata": {
        "id": "KAddODjnW0Fe",
        "colab_type": "code",
        "colab": {}
      },
      "source": [
        "class RNN(nn.Module):\n",
        "    def __init__(self, input_size, output_size, hidden_dim, n_layers):\n",
        "        super(RNN, self).__init__()\n",
        "        \n",
        "        self.hidden_dim=hidden_dim\n",
        "\n",
        "        # define an RNN with specified parameters\n",
        "        # batch_first means that the first dim of the input and output will be the batch_size\n",
        "        self.rnn = nn.RNN(input_size, hidden_dim, n_layers, batch_first=True)\n",
        "        \n",
        "        # last, fully-connected layer\n",
        "        self.fc = nn.Linear(hidden_dim, output_size)\n",
        "\n",
        "    def forward(self, x, hidden):\n",
        "        # x (batch_size, seq_length, input_size)\n",
        "        # hidden (n_layers, batch_size, hidden_dim)\n",
        "        # r_out (batch_size, time_step, hidden_size)\n",
        "        batch_size = x.size(0)\n",
        "        \n",
        "        # get RNN outputs\n",
        "        r_out, hidden = self.rnn(x, hidden)\n",
        "        # shape output to be (batch_size*seq_length, hidden_dim)\n",
        "        r_out = r_out.view(-1, self.hidden_dim)  \n",
        "        \n",
        "        # get final output \n",
        "        output = self.fc(r_out)\n",
        "        \n",
        "        return output, hidden"
      ],
      "execution_count": 29,
      "outputs": []
    },
    {
      "cell_type": "code",
      "metadata": {
        "id": "SthhxMp2YQyH",
        "colab_type": "code",
        "colab": {
          "base_uri": "https://localhost:8080/",
          "height": 68
        },
        "outputId": "22181f57-8c73-4049-e0af-30038d3bf32e"
      },
      "source": [
        "test_rnn = RNN(input_size=3, output_size=1, hidden_dim=10, n_layers=2)\n",
        "\n",
        "# generate evenly spaced, test data pts\n",
        "\n",
        "test_input = torch.Tensor(x_data).unsqueeze(0) # give it a batch_size of 1 as first dimension\n",
        "print('Input size: ', test_input.size())\n",
        "# test out rnn sizes\n",
        "test_out, test_h = test_rnn(test_input, None)\n",
        "test_out = torch.Tensor(y_data)\n",
        "print('Output size: ', test_out.size())\n",
        "print('Hidden state size: ', test_h.size())"
      ],
      "execution_count": 30,
      "outputs": [
        {
          "output_type": "stream",
          "text": [
            "Input size:  torch.Size([1, 186, 3])\n",
            "Output size:  torch.Size([186, 1])\n",
            "Hidden state size:  torch.Size([2, 1, 10])\n"
          ],
          "name": "stdout"
        }
      ]
    },
    {
      "cell_type": "code",
      "metadata": {
        "id": "P44Lq3RNYjY0",
        "colab_type": "code",
        "colab": {
          "base_uri": "https://localhost:8080/",
          "height": 102
        },
        "outputId": "dbc28d38-5b92-4f52-9bab-46f190492d9b"
      },
      "source": [
        "test_h"
      ],
      "execution_count": 31,
      "outputs": [
        {
          "output_type": "execute_result",
          "data": {
            "text/plain": [
              "tensor([[[ 0.7623,  0.3641,  0.4360,  0.5714,  0.2771, -0.0057, -0.5708,\n",
              "           0.3068,  0.8938,  0.7318]],\n",
              "\n",
              "        [[-0.3655,  0.7315, -0.1965,  0.6457,  0.6058, -0.4173, -0.6142,\n",
              "           0.5129, -0.4242,  0.7643]]], grad_fn=<StackBackward>)"
            ]
          },
          "metadata": {
            "tags": []
          },
          "execution_count": 31
        }
      ]
    },
    {
      "cell_type": "code",
      "metadata": {
        "id": "JlttGC3Zm5jU",
        "colab_type": "code",
        "colab": {
          "base_uri": "https://localhost:8080/",
          "height": 1000
        },
        "outputId": "6c27cbf6-f61e-4a89-c469-79e0a6a6598e"
      },
      "source": [
        "test_out"
      ],
      "execution_count": 32,
      "outputs": [
        {
          "output_type": "execute_result",
          "data": {
            "text/plain": [
              "tensor([[-9.6200e-01],\n",
              "        [-9.6200e-01],\n",
              "        [-9.6200e-01],\n",
              "        [-9.6200e-01],\n",
              "        [-9.6200e-01],\n",
              "        [-9.6200e-01],\n",
              "        [-9.6200e-01],\n",
              "        [-9.6200e-01],\n",
              "        [-9.6200e-01],\n",
              "        [-9.6200e-01],\n",
              "        [-9.6199e-01],\n",
              "        [-9.6199e-01],\n",
              "        [-9.6199e-01],\n",
              "        [-9.6199e-01],\n",
              "        [-9.6199e-01],\n",
              "        [-9.6199e-01],\n",
              "        [-9.6199e-01],\n",
              "        [-9.6199e-01],\n",
              "        [-9.6199e-01],\n",
              "        [-9.6199e-01],\n",
              "        [-9.6199e-01],\n",
              "        [-9.6199e-01],\n",
              "        [-9.6199e-01],\n",
              "        [-9.6199e-01],\n",
              "        [-9.6199e-01],\n",
              "        [-9.6199e-01],\n",
              "        [-9.6199e-01],\n",
              "        [-9.6198e-01],\n",
              "        [-9.6198e-01],\n",
              "        [-9.6198e-01],\n",
              "        [-9.6198e-01],\n",
              "        [-9.6197e-01],\n",
              "        [-9.6197e-01],\n",
              "        [-9.6197e-01],\n",
              "        [-9.6196e-01],\n",
              "        [-9.6196e-01],\n",
              "        [-9.6195e-01],\n",
              "        [-9.6195e-01],\n",
              "        [-9.6195e-01],\n",
              "        [-9.6194e-01],\n",
              "        [-9.6193e-01],\n",
              "        [-9.6191e-01],\n",
              "        [-9.6190e-01],\n",
              "        [-9.6187e-01],\n",
              "        [-9.6181e-01],\n",
              "        [-9.6174e-01],\n",
              "        [-9.6164e-01],\n",
              "        [-9.6154e-01],\n",
              "        [-9.6137e-01],\n",
              "        [-9.6114e-01],\n",
              "        [-9.6093e-01],\n",
              "        [-9.6059e-01],\n",
              "        [-9.6013e-01],\n",
              "        [-9.5956e-01],\n",
              "        [-9.5897e-01],\n",
              "        [-9.5821e-01],\n",
              "        [-9.5702e-01],\n",
              "        [-9.5497e-01],\n",
              "        [-9.5156e-01],\n",
              "        [-9.4684e-01],\n",
              "        [-9.4151e-01],\n",
              "        [-9.3441e-01],\n",
              "        [-9.2601e-01],\n",
              "        [-9.1732e-01],\n",
              "        [-9.0524e-01],\n",
              "        [-8.9165e-01],\n",
              "        [-8.7754e-01],\n",
              "        [-8.6036e-01],\n",
              "        [-8.4544e-01],\n",
              "        [-8.2784e-01],\n",
              "        [-8.0692e-01],\n",
              "        [-7.8538e-01],\n",
              "        [-7.6069e-01],\n",
              "        [-7.3284e-01],\n",
              "        [-7.0277e-01],\n",
              "        [-6.8105e-01],\n",
              "        [-6.5494e-01],\n",
              "        [-6.2800e-01],\n",
              "        [-6.0107e-01],\n",
              "        [-5.7170e-01],\n",
              "        [-5.4337e-01],\n",
              "        [-5.1700e-01],\n",
              "        [-4.9418e-01],\n",
              "        [-4.7239e-01],\n",
              "        [-4.4948e-01],\n",
              "        [-4.2331e-01],\n",
              "        [-3.9649e-01],\n",
              "        [-3.6971e-01],\n",
              "        [-3.4572e-01],\n",
              "        [-3.2398e-01],\n",
              "        [-3.0111e-01],\n",
              "        [-2.7955e-01],\n",
              "        [-2.5591e-01],\n",
              "        [-2.2766e-01],\n",
              "        [-1.9577e-01],\n",
              "        [-1.6681e-01],\n",
              "        [-1.4432e-01],\n",
              "        [-1.2500e-01],\n",
              "        [-1.0338e-01],\n",
              "        [-8.0424e-02],\n",
              "        [-5.5019e-02],\n",
              "        [-2.6497e-02],\n",
              "        [-1.7855e-03],\n",
              "        [ 2.0035e-02],\n",
              "        [ 3.8780e-02],\n",
              "        [ 5.8962e-02],\n",
              "        [ 7.9921e-02],\n",
              "        [ 1.0334e-01],\n",
              "        [ 1.2653e-01],\n",
              "        [ 1.4753e-01],\n",
              "        [ 1.6408e-01],\n",
              "        [ 1.8057e-01],\n",
              "        [ 1.9925e-01],\n",
              "        [ 2.1678e-01],\n",
              "        [ 2.3957e-01],\n",
              "        [ 2.6123e-01],\n",
              "        [ 2.8087e-01],\n",
              "        [ 2.9634e-01],\n",
              "        [ 3.1486e-01],\n",
              "        [ 3.3253e-01],\n",
              "        [ 3.5217e-01],\n",
              "        [ 3.7369e-01],\n",
              "        [ 3.9366e-01],\n",
              "        [ 4.1189e-01],\n",
              "        [ 4.2926e-01],\n",
              "        [ 4.4588e-01],\n",
              "        [ 4.6215e-01],\n",
              "        [ 4.7814e-01],\n",
              "        [ 4.9705e-01],\n",
              "        [ 5.1791e-01],\n",
              "        [ 5.3737e-01],\n",
              "        [ 5.5471e-01],\n",
              "        [ 5.7341e-01],\n",
              "        [ 5.9073e-01],\n",
              "        [ 6.0779e-01],\n",
              "        [ 6.2581e-01],\n",
              "        [ 6.5003e-01],\n",
              "        [ 6.6877e-01],\n",
              "        [ 6.8433e-01],\n",
              "        [ 6.9982e-01],\n",
              "        [ 7.1562e-01],\n",
              "        [ 7.3317e-01],\n",
              "        [ 7.5276e-01],\n",
              "        [ 7.7416e-01],\n",
              "        [ 7.9530e-01],\n",
              "        [ 8.1103e-01],\n",
              "        [ 8.2840e-01],\n",
              "        [ 8.4931e-01],\n",
              "        [ 8.7116e-01],\n",
              "        [ 8.9379e-01],\n",
              "        [ 9.2081e-01],\n",
              "        [ 9.4675e-01],\n",
              "        [ 9.6904e-01],\n",
              "        [ 9.9555e-01],\n",
              "        [ 1.0253e+00],\n",
              "        [ 1.0566e+00],\n",
              "        [ 1.0911e+00],\n",
              "        [ 1.1297e+00],\n",
              "        [ 1.1653e+00],\n",
              "        [ 1.1980e+00],\n",
              "        [ 1.2307e+00],\n",
              "        [ 1.2723e+00],\n",
              "        [ 1.3147e+00],\n",
              "        [ 1.3602e+00],\n",
              "        [ 1.4104e+00],\n",
              "        [ 1.4531e+00],\n",
              "        [ 1.4910e+00],\n",
              "        [ 1.5305e+00],\n",
              "        [ 1.5763e+00],\n",
              "        [ 1.6264e+00],\n",
              "        [ 1.6772e+00],\n",
              "        [ 1.7344e+00],\n",
              "        [ 1.7856e+00],\n",
              "        [ 1.8343e+00],\n",
              "        [ 1.8858e+00],\n",
              "        [ 1.9414e+00],\n",
              "        [ 1.9996e+00],\n",
              "        [ 2.0638e+00],\n",
              "        [ 2.1233e+00],\n",
              "        [ 2.1756e+00],\n",
              "        [ 2.2276e+00],\n",
              "        [ 2.2773e+00],\n",
              "        [ 2.3328e+00],\n",
              "        [ 2.3914e+00],\n",
              "        [ 2.4503e+00],\n",
              "        [ 2.5120e+00]])"
            ]
          },
          "metadata": {
            "tags": []
          },
          "execution_count": 32
        }
      ]
    },
    {
      "cell_type": "code",
      "metadata": {
        "id": "BakVUSMhYl7G",
        "colab_type": "code",
        "colab": {
          "base_uri": "https://localhost:8080/",
          "height": 85
        },
        "outputId": "9ac179d5-bc74-4fb3-bddf-c51cbeddf129"
      },
      "source": [
        "# hyperparameters\n",
        "input_size=3\n",
        "output_size=1\n",
        "hidden_dim=32\n",
        "n_layers=1\n",
        "\n",
        "# instantiate an RNN\n",
        "rnn = RNN(input_size, output_size, hidden_dim, n_layers)\n",
        "print(rnn)\n",
        "\n",
        "# MSE loss and Adam optimizer with a learning rate of 0.01\n",
        "criterion = nn.MSELoss()\n",
        "optimizer = torch.optim.Adam(rnn.parameters(), lr=0.01)"
      ],
      "execution_count": 33,
      "outputs": [
        {
          "output_type": "stream",
          "text": [
            "RNN(\n",
            "  (rnn): RNN(3, 32, batch_first=True)\n",
            "  (fc): Linear(in_features=32, out_features=1, bias=True)\n",
            ")\n"
          ],
          "name": "stdout"
        }
      ]
    },
    {
      "cell_type": "code",
      "metadata": {
        "id": "mkyTbgiXYzAm",
        "colab_type": "code",
        "colab": {}
      },
      "source": [
        "# train the RNN\n",
        "def train(rnn, n_steps, print_every):\n",
        "    \n",
        "    # initialize the hidden state\n",
        "    hidden = None      \n",
        "    Y=data.cases\n",
        "    for batch_i, step in enumerate(range(n_steps)):\n",
        "        # defining the training data \n",
        "\n",
        "        x = x_data[:-1]\n",
        "        y = y_data[1:]\n",
        "        \n",
        "        # convert data into Tensors\n",
        "        x_tensor = torch.Tensor(x).unsqueeze(0) # unsqueeze gives a 1, batch_size dimension\n",
        "        y_tensor = torch.Tensor(y)\n",
        "\n",
        "        # outputs from the rnn\n",
        "        prediction, hidden = rnn(x_tensor, hidden)\n",
        "        \n",
        "        ## Representing Memory ##\n",
        "        # make a new variable for hidden and detach the hidden state from its history\n",
        "        # this way, we don't backpropagate through the entire history\n",
        "        hidden = hidden.data\n",
        "\n",
        "        # calculate the loss\n",
        "        loss = criterion(prediction, y_tensor)\n",
        "        # zero gradients\n",
        "        optimizer.zero_grad()\n",
        "        # perform backprop and update weights\n",
        "        loss.backward()\n",
        "        optimizer.step()\n",
        "\n",
        "        # display loss and predictions\n",
        "        if batch_i%print_every == 0:\n",
        "            #print(\"Predictions:\",prediction)        \n",
        "            print('Loss: ', loss.item())\n",
        "            #plt.plot(Y,'r',linewidth=1,label='real-cases')\n",
        "            #plt.plot(sc.inverse_transform(prediction.data.numpy()), 'b.',label='predicted-cases') # predictions\n",
        "            plt.plot(prediction.data.numpy().flatten(), 'b.',label='predicted-cases')\n",
        "            plt.show()\n",
        "    \n",
        "    return rnn"
      ],
      "execution_count": 34,
      "outputs": []
    },
    {
      "cell_type": "code",
      "metadata": {
        "id": "3Q6TPyvSY5TH",
        "colab_type": "code",
        "colab": {
          "base_uri": "https://localhost:8080/",
          "height": 1000
        },
        "outputId": "6deedb06-7e9d-4199-f980-f582f8ef510c"
      },
      "source": [
        "# train the rnn and monitor results\n",
        "n_steps = 100\n",
        "print_every = 15\n",
        "\n",
        "trained_rnn = train(rnn, n_steps, print_every)"
      ],
      "execution_count": 35,
      "outputs": [
        {
          "output_type": "stream",
          "text": [
            "Loss:  0.9663447141647339\n"
          ],
          "name": "stdout"
        },
        {
          "output_type": "display_data",
          "data": {
            "image/png": "[encoded data removed]",
            "text/plain": [
              "<Figure size 432x288 with 1 Axes>"
            ]
          },
          "metadata": {
            "tags": [],
            "needs_background": "light"
          }
        },
        {
          "output_type": "stream",
          "text": [
            "Loss:  0.07222559303045273\n"
          ],
          "name": "stdout"
        },
        {
          "output_type": "display_data",
          "data": {
            "image/png": "[encoded data removed]",
            "text/plain": [
              "<Figure size 432x288 with 1 Axes>"
            ]
          },
          "metadata": {
            "tags": [],
            "needs_background": "light"
          }
        },
        {
          "output_type": "stream",
          "text": [
            "Loss:  0.030546503141522408\n"
          ],
          "name": "stdout"
        },
        {
          "output_type": "display_data",
          "data": {
            "image/png": "[encoded data removed]",
            "text/plain": [
              "<Figure size 432x288 with 1 Axes>"
            ]
          },
          "metadata": {
            "tags": [],
            "needs_background": "light"
          }
        },
        {
          "output_type": "stream",
          "text": [
            "Loss:  0.024502385407686234\n"
          ],
          "name": "stdout"
        },
        {
          "output_type": "display_data",
          "data": {
            "image/png": "[encoded data removed]",
            "text/plain": [
              "<Figure size 432x288 with 1 Axes>"
            ]
          },
          "metadata": {
            "tags": [],
            "needs_background": "light"
          }
        },
        {
          "output_type": "stream",
          "text": [
            "Loss:  0.019328199326992035\n"
          ],
          "name": "stdout"
        },
        {
          "output_type": "display_data",
          "data": {
            "image/png": "[encoded data removed]",
            "text/plain": [
              "<Figure size 432x288 with 1 Axes>"
            ]
          },
          "metadata": {
            "tags": [],
            "needs_background": "light"
          }
        },
        {
          "output_type": "stream",
          "text": [
            "Loss:  0.015963643789291382\n"
          ],
          "name": "stdout"
        },
        {
          "output_type": "display_data",
          "data": {
            "image/png": "[encoded data removed]",
            "text/plain": [
              "<Figure size 432x288 with 1 Axes>"
            ]
          },
          "metadata": {
            "tags": [],
            "needs_background": "light"
          }
        },
        {
          "output_type": "stream",
          "text": [
            "Loss:  0.01163563597947359\n"
          ],
          "name": "stdout"
        },
        {
          "output_type": "display_data",
          "data": {
            "image/png": "[encoded data removed]",
            "text/plain": [
              "<Figure size 432x288 with 1 Axes>"
            ]
          },
          "metadata": {
            "tags": [],
            "needs_background": "light"
          }
        }
      ]
    },
    {
      "cell_type": "code",
      "metadata": {
        "id": "5ne1xlNL2vO4",
        "colab_type": "code",
        "colab": {}
      },
      "source": [
        ""
      ],
      "execution_count": 35,
      "outputs": []
    },
    {
      "cell_type": "code",
      "metadata": {
        "id": "c0ty7mX9srX2",
        "colab_type": "code",
        "colab": {
          "base_uri": "https://localhost:8080/",
          "height": 1000
        },
        "outputId": "8c070475-3006-42d2-95a8-d5b77aa6ef06"
      },
      "source": [
        "n_steps = 100\n",
        "print_every = 15\n",
        "\n",
        "trained_rnn1 = train(rnn, n_steps, print_every)"
      ],
      "execution_count": 36,
      "outputs": [
        {
          "output_type": "stream",
          "text": [
            "Loss:  0.007310906425118446\n"
          ],
          "name": "stdout"
        },
        {
          "output_type": "display_data",
          "data": {
            "image/png": "[encoded data removed]",
            "text/plain": [
              "<Figure size 432x288 with 1 Axes>"
            ]
          },
          "metadata": {
            "tags": [],
            "needs_background": "light"
          }
        },
        {
          "output_type": "stream",
          "text": [
            "Loss:  0.007644195109605789\n"
          ],
          "name": "stdout"
        },
        {
          "output_type": "display_data",
          "data": {
            "image/png": "[encoded data removed]",
            "text/plain": [
              "<Figure size 432x288 with 1 Axes>"
            ]
          },
          "metadata": {
            "tags": [],
            "needs_background": "light"
          }
        },
        {
          "output_type": "stream",
          "text": [
            "Loss:  0.001839546370320022\n"
          ],
          "name": "stdout"
        },
        {
          "output_type": "display_data",
          "data": {
            "image/png": "[encoded data removed]",
            "text/plain": [
              "<Figure size 432x288 with 1 Axes>"
            ]
          },
          "metadata": {
            "tags": [],
            "needs_background": "light"
          }
        },
        {
          "output_type": "stream",
          "text": [
            "Loss:  0.000828628777526319\n"
          ],
          "name": "stdout"
        },
        {
          "output_type": "display_data",
          "data": {
            "image/png": "[encoded data removed]",
            "text/plain": [
              "<Figure size 432x288 with 1 Axes>"
            ]
          },
          "metadata": {
            "tags": [],
            "needs_background": "light"
          }
        },
        {
          "output_type": "stream",
          "text": [
            "Loss:  0.0003526217769831419\n"
          ],
          "name": "stdout"
        },
        {
          "output_type": "display_data",
          "data": {
            "image/png": "[encoded data removed]",
            "text/plain": [
              "<Figure size 432x288 with 1 Axes>"
            ]
          },
          "metadata": {
            "tags": [],
            "needs_background": "light"
          }
        },
        {
          "output_type": "stream",
          "text": [
            "Loss:  0.000983312027528882\n"
          ],
          "name": "stdout"
        },
        {
          "output_type": "display_data",
          "data": {
            "image/png": "[encoded data removed]",
            "text/plain": [
              "<Figure size 432x288 with 1 Axes>"
            ]
          },
          "metadata": {
            "tags": [],
            "needs_background": "light"
          }
        },
        {
          "output_type": "stream",
          "text": [
            "Loss:  0.0002439133240841329\n"
          ],
          "name": "stdout"
        },
        {
          "output_type": "display_data",
          "data": {
            "image/png": "[encoded data removed]",
            "text/plain": [
              "<Figure size 432x288 with 1 Axes>"
            ]
          },
          "metadata": {
            "tags": [],
            "needs_background": "light"
          }
        }
      ]
    },
    {
      "cell_type": "code",
      "metadata": {
        "id": "nC8YMbFFdT8-",
        "colab_type": "code",
        "colab": {}
      },
      "source": [
        ""
      ],
      "execution_count": 36,
      "outputs": []
    }
  ]
}